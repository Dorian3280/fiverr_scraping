{
 "cells": [
  {
   "cell_type": "code",
   "execution_count": null,
   "id": "244b9943-9be2-48bd-938d-9da591c2765f",
   "metadata": {},
   "outputs": [],
   "source": [
    "%config Completer.use_jedi = False\n",
    "from selenium import webdriver\n",
    "from selenium.webdriver.common.by import By\n",
    "from selenium.webdriver.firefox.options import Options\n",
    "import pandas as pd\n",
    "import re\n",
    "import os\n",
    "import jellyfish\n",
    "from collections import Counter\n",
    "import time"
   ]
  },
  {
   "cell_type": "code",
   "execution_count": null,
   "id": "4eb9b104-8d3d-4271-b107-b76bdb11a1ec",
   "metadata": {},
   "outputs": [],
   "source": [
    "# [\"python\", \"data science\", \"copyright\", \"comptability\", \"design\", \"excel, javascript\", \"adobe premiere\", \"photoshop\", \" c++\", \"guitare\", \"math\", \"piano\", \"violon\", \"java\"]\n",
    "subject = 'photoshop'\n",
    "\n",
    "try: os.mkdir('./data/' + subject)\n",
    "except FileExistsError: pass"
   ]
  },
  {
   "cell_type": "code",
   "execution_count": null,
   "id": "d6185063",
   "metadata": {},
   "outputs": [],
   "source": [
    "with open(f'./data/{subject}/cards.csv', 'a') as f:\n",
    "    if f.tell() == 0:\n",
    "        f.write(\"name;price;nb_comments;note;profil_link;description\")\n",
    "    for p in range(10):\n",
    "        options = Options()\n",
    "        options.headless = True\n",
    "        driver = webdriver.Firefox(options=options)\n",
    "        driver.get(f\"https://fr.fiverr.com/search/gigs?query={subject}&source=pagination&search_in=everywhere&search-autocomplete-original-term={subject}&page={p}\")\n",
    "\n",
    "        if 'block.fiverr.com' in driver.current_url or '/404' in driver.current_url:\n",
    "            print('blocked')\n",
    "            raise Exception\n",
    "\n",
    "        elements = driver.find_elements(By.XPATH, \"//div[contains(@class, 'gig-card-layout')]\")\n",
    "        for i, element in enumerate(elements):\n",
    "            try: \n",
    "                name = element.find_element(By.XPATH, \".//div[contains(@class, 'seller-name')]/a\").text\n",
    "                profil_link = element.find_element(By.XPATH, \".//div[contains(@class, 'seller-name')]/a\").get_attribute('href')\n",
    "                description = element.find_element(By.XPATH, \".//h3/a\").text.replace(';', ',')\n",
    "                ratingText = element.find_element(By.XPATH, \".//span[contains(@class, 'gig-rating')]\").text\n",
    "                groups = re.match(r'(\\d)(?:,)(\\d)(?:\\()(\\d+)(?:\\))', ratingText).groups()\n",
    "                note = int(groups[0])+int(groups[1])/10\n",
    "                price = int(element.find_element(By.XPATH, \".//a[contains(@class, 'price')]/span\").text[:-2])/100\n",
    "                \n",
    "            except Exception as e:\n",
    "                print(name)\n",
    "                    \n",
    "            f.write(f\"{name};{price};{int(groups[2])};{note};{profil_link};{description}\\n\")\n",
    "            \n",
    "    del driver, options, elements, name, profil_link, description, ratingText, groups, note, price, i, p, f"
   ]
  },
  {
   "cell_type": "code",
   "execution_count": null,
   "id": "92f8bb88-0e5e-4a69-9c59-cf58d220dad9",
   "metadata": {},
   "outputs": [],
   "source": [
    "cards = pd.read_csv(f'./data/{subject}/cards.csv', sep=';')"
   ]
  },
  {
   "cell_type": "code",
   "execution_count": null,
   "id": "dd6c655f-ae97-4466-95f5-2822127d2368",
   "metadata": {},
   "outputs": [],
   "source": [
    "with open(f'./data/{subject}/profils.csv', 'a') as f:\n",
    "    if f.tell() == 0:\n",
    "        f.write(f\"name;location;created_at;response_time;last_order:languages;linked_acc;skills;education;description\\n\")\n",
    "\n",
    "    for id in range(30):\n",
    "        options = Options()\n",
    "        options.headless = True\n",
    "        driver = webdriver.Firefox(options=options)\n",
    "        driver.get(cards.loc[id]['profil_link'])\n",
    "        # The website can block from request or the page doesn't exist or the profil link doesn't exist so it returns to the main page\n",
    "        if 'block.fiverr.com' in driver.current_url or '/404' in driver.current_url or len(driver.current_url) < 25:\n",
    "            raise Exception\n",
    "\n",
    "        name = cards.loc[id]['name']\n",
    "        stats = [i.text.strip() for i in driver.find_elements(By.XPATH, \"//ul[contains(@class, 'user-stats')]/li/*[self::b or self::strong]\")]\n",
    "        location = stats[0]\n",
    "        created_at = stats[1]\n",
    "        response_time = stats[2]\n",
    "        last_order = stats[3]\n",
    "        languages = [f\"{i.text[i.text.find('(')+1:i.text.find(')')]}-{i.text.split('-')[-1].strip()}\" for i in driver.find_elements(By.XPATH, \"//div[contains(@class, 'languages')]/ul/li\")]\n",
    "        linked_acc = [i.text for i in driver.find_elements(By.XPATH, \"//div[contains(@class, 'linked-accounts')]/ul/li/span[@class='text']\")]\n",
    "        skills = [i.text for i in driver.find_elements(By.XPATH, \"//div[contains(@class, 'skills')]/ul/li/a\")]\n",
    "        try:\n",
    "            education = driver.find_element(By.XPATH, \"//div[contains(@class, 'education-list')]/ul/li/p\").text\n",
    "        except Exception:\n",
    "            education = ''\n",
    "        description = driver.find_element(By.XPATH, \"//div[contains(@class, 'description')]/p\").text.replace(';', ',')\n",
    "        \n",
    "        f.write(f\"{name};{location};{created_at};{response_time};{last_order};{'|'.join(languages)};{'|'.join(linked_acc)};{'|'.join(skills)};{education};{description}\\n\")\n",
    "        \n",
    "        del driver, options, name, stats, location, created_at, response_time, last_order, languages, linked_acc, skills, education, description\n",
    "        \n",
    "    del id, f"
   ]
  },
  {
   "cell_type": "code",
   "execution_count": null,
   "id": "195c6317-a6a3-41c1-b7c9-c9016c692d33",
   "metadata": {},
   "outputs": [],
   "source": [
    "profils = pd.read_csv(f'./data/{subject}/profils.csv', sep=';')"
   ]
  },
  {
   "cell_type": "code",
   "execution_count": null,
   "id": "b6af258a-c400-42b2-97f9-ef3719cdf11e",
   "metadata": {},
   "outputs": [],
   "source": [
    "def get_common_skills(l: list, nb: int):\n",
    "    skills = Counter({})\n",
    "    for row in l:\n",
    "        temp = row.split('|')\n",
    "        for i in temp:\n",
    "            skills[i] += 1\n",
    "    return skills.most_common(nb)"
   ]
  },
  {
   "cell_type": "code",
   "execution_count": null,
   "id": "f07bf5a5-14ac-43e1-b08a-eed019efa5d1",
   "metadata": {},
   "outputs": [],
   "source": [
    "get_common_skills(list(profils['skills']), 5)"
   ]
  }
 ],
 "metadata": {
  "kernelspec": {
   "display_name": "Python 3 (ipykernel)",
   "language": "python",
   "name": "python3"
  },
  "language_info": {
   "codemirror_mode": {
    "name": "ipython",
    "version": 3
   },
   "file_extension": ".py",
   "mimetype": "text/x-python",
   "name": "python",
   "nbconvert_exporter": "python",
   "pygments_lexer": "ipython3",
   "version": "3.9.7"
  }
 },
 "nbformat": 4,
 "nbformat_minor": 5
}
